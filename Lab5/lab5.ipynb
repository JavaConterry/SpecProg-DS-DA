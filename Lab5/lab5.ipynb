{
 "cells": [
  {
   "cell_type": "code",
   "execution_count": 1,
   "id": "129d9441-7a94-46a7-b79c-fb33022189e3",
   "metadata": {
    "tags": []
   },
   "outputs": [],
   "source": [
    "import numpy as np\n",
    "import plotly.graph_objects as go\n",
    "from ipywidgets import interactive, FloatSlider, Checkbox, Button, VBox, HBox, Layout"
   ]
  },
  {
   "cell_type": "raw",
   "id": "ce2cd084-545d-40e9-8846-4173316c0f61",
   "metadata": {},
   "source": [
    "class Noise():\n",
    "    def __init__(self, noise_mean, noise_covariance):\n",
    "        self.noise = np.random.normal(noise_mean, noise_covariance, len(t))\n",
    "        self.prev_mean = noise_mean\n",
    "        self.prev_covar = noise_covariance\n",
    "    \n",
    "    def check_if_needed(self, noise_mean, noise_covariance):\n",
    "        if self.prev_mean == noise_mean and self.prev_covar == noise_covariance: return False\n",
    "        self.noise = np.random.normal(noise_mean, noise_covariance, len(t))\n",
    "        self.prev_mean = noise_mean\n",
    "        self.prev_covar = noise_covariance\n",
    "        return True"
   ]
  },
  {
   "cell_type": "code",
   "execution_count": 2,
   "id": "f4782de0-8fea-4f4e-a4d2-e0f03df56250",
   "metadata": {},
   "outputs": [],
   "source": [
    "# Генеруємо часовий ряд\n",
    "t = np.linspace(0, 1, 1000)\n",
    "\n",
    "# Початкові значення параметрів\n",
    "initial_amplitude = 5\n",
    "initial_frequency = 3\n",
    "initial_phase = 0\n",
    "initial_noise_mean = 0\n",
    "initial_noise_covariance = 0\n",
    "initial_show_noise = False\n",
    "\n",
    "# noise = Noise(initial_noise_mean, initial_noise_covariance)"
   ]
  },
  {
   "cell_type": "code",
   "execution_count": 3,
   "id": "89886ee2-df7b-45ab-baf5-bbb70899fdb0",
   "metadata": {},
   "outputs": [],
   "source": [
    "def harmonic_with_noise(amplitude, frequency, phase, noise_mean, noise_covariance, show_noise):    \n",
    "    # Генеруємо гармоніку\n",
    "    harmonic = amplitude * np.sin(2 * np.pi * frequency * t + phase)\n",
    "    \n",
    "    # Додаємо шум, якщо show_noise=True\n",
    "    if show_noise:\n",
    "        noise = np.random.normal(noise_mean, noise_covariance, len(t))\n",
    "        # check_if_needed(noise_mean, noise_covariance)\n",
    "        signal_with_noise = harmonic + noise#.noise\n",
    "    else:\n",
    "        signal_with_noise = harmonic\n",
    "    return t, harmonic, signal_with_noise\n",
    "\n",
    "# Функція для оновлення графіку\n",
    "def update_plot(amplitude, frequency, phase, noise_mean, noise_covariance, show_noise):\n",
    "    t, harmonic, signal_with_noise = harmonic_with_noise(amplitude, frequency, phase, noise_mean, noise_covariance, show_noise)\n",
    "    # Оновлюємо графік\n",
    "    with fig.batch_update():\n",
    "        # Графік гармоніки\n",
    "        fig.data[0].x = t\n",
    "        fig.data[0].y = harmonic\n",
    "        # Графік з шумом\n",
    "        fig.data[1].x = t\n",
    "        fig.data[1].y = signal_with_noise"
   ]
  },
  {
   "cell_type": "code",
   "execution_count": 4,
   "id": "b9c5fc7e-9733-43ec-8194-b2a06a88c4c5",
   "metadata": {},
   "outputs": [],
   "source": [
    "# Створюємо початковий графік\n",
    "t_init, harmonic_init, signal_with_noise_init = harmonic_with_noise(\n",
    "    initial_amplitude, initial_frequency, initial_phase, initial_noise_mean, initial_noise_covariance, initial_show_noise\n",
    ")\n",
    "\n",
    "# Створюємо графік за допомогою Plotly\n",
    "trace_harmonic = go.Scatter(x=t_init, y=harmonic_init, mode='lines', name='Harmonic')\n",
    "trace_signal_with_noise = go.Scatter(x=t_init, y=signal_with_noise_init, mode='lines', name='Signal with Noise')\n",
    "\n",
    "layout = go.Layout(\n",
    "    title=\"Harmonic with Noise\",\n",
    "    xaxis=dict(title=\"Time\"),\n",
    "    yaxis=dict(title=\"Amplitude\"),\n",
    ")\n"
   ]
  },
  {
   "cell_type": "code",
   "execution_count": 5,
   "id": "85d012ba-96b2-4791-a16e-a0ae74236574",
   "metadata": {
    "tags": []
   },
   "outputs": [],
   "source": [
    "fig = go.FigureWidget(\n",
    "    data=[trace_harmonic, trace_signal_with_noise],\n",
    "    layout=layout\n",
    ")"
   ]
  },
  {
   "cell_type": "code",
   "execution_count": 6,
   "id": "7a9fa595-38dc-46b8-b356-73f551a3a6c6",
   "metadata": {},
   "outputs": [],
   "source": [
    "# Створюємо слайдери, чекбокс, і кнопку\n",
    "amplitude_slider = FloatSlider(value=initial_amplitude, min=0, max=10, step=0.1, description='Amplitude')\n",
    "frequency_slider = FloatSlider(value=initial_frequency, min=0.1, max=30, step=0.1, description='Frequency')\n",
    "phase_slider = FloatSlider(value=initial_phase, min=0, max=2 * np.pi, step=0.1, description='Phase')\n",
    "noise_mean_slider = FloatSlider(value=initial_noise_mean, min=-5, max=5, step=0.1, description='Noise Mean')\n",
    "noise_covariance_slider = FloatSlider(value=initial_noise_covariance, min=0, max=5, step=0.01, description='Noise Covariance')\n",
    "show_noise_checkbox = Checkbox(value=initial_show_noise, description='Show Noise')\n",
    "reset_button = Button(description=\"Reset\", layout=Layout(width='auto'))\n",
    "\n",
    "# Встановлюємо функцію-зворотнього виклику для слайдерів та чекбокса\n",
    "interactive_update = interactive(\n",
    "    update_plot,\n",
    "    amplitude=amplitude_slider,\n",
    "    frequency=frequency_slider,\n",
    "    phase=phase_slider,\n",
    "    noise_mean=noise_mean_slider,\n",
    "    noise_covariance=noise_covariance_slider,\n",
    "    show_noise=show_noise_checkbox\n",
    ")"
   ]
  },
  {
   "cell_type": "code",
   "execution_count": 7,
   "id": "17d5f967-497e-4788-a48f-35fdbc25dadf",
   "metadata": {},
   "outputs": [],
   "source": [
    "# Встановлюємо функцію-зворотнього виклику для кнопки \"Reset\"\n",
    "def reset_params(button):\n",
    "    amplitude_slider.value = initial_amplitude\n",
    "    frequency_slider.value = initial_frequency\n",
    "    phase_slider.value = initial_phase\n",
    "    noise_mean_slider.value = initial_noise_mean\n",
    "    noise_covariance_slider.value = initial_noise_covariance\n",
    "    show_noise_checkbox.value = initial_show_noise\n",
    "\n",
    "reset_button.on_click(reset_params)"
   ]
  },
  {
   "cell_type": "code",
   "execution_count": 8,
   "id": "6e03e9c7-d9ba-4733-ad28-f12a50c3c29f",
   "metadata": {},
   "outputs": [],
   "source": [
    "# Відображаємо інтерфейс\n",
    "app = VBox([fig, HBox([amplitude_slider, frequency_slider, phase_slider]), HBox([noise_mean_slider, noise_covariance_slider, show_noise_checkbox, reset_button])])"
   ]
  },
  {
   "cell_type": "code",
   "execution_count": 9,
   "id": "6bf454ae-51b6-42e7-b891-d783f7271a14",
   "metadata": {
    "tags": []
   },
   "outputs": [
    {
     "data": {
      "application/vnd.jupyter.widget-view+json": {
       "model_id": "d9d0d72424b9443b980858a053efa515",
       "version_major": 2,
       "version_minor": 0
      },
      "text/plain": [
       "VBox(children=(FigureWidget({\n",
       "    'data': [{'mode': 'lines',\n",
       "              'name': 'Harmonic',\n",
       "              '…"
      ]
     },
     "execution_count": 9,
     "metadata": {},
     "output_type": "execute_result"
    }
   ],
   "source": [
    "app"
   ]
  }
 ],
 "metadata": {
  "kernelspec": {
   "display_name": "Python 3 (ipykernel)",
   "language": "python",
   "name": "python3"
  },
  "language_info": {
   "codemirror_mode": {
    "name": "ipython",
    "version": 3
   },
   "file_extension": ".py",
   "mimetype": "text/x-python",
   "name": "python",
   "nbconvert_exporter": "python",
   "pygments_lexer": "ipython3",
   "version": "3.11.5"
  }
 },
 "nbformat": 4,
 "nbformat_minor": 5
}
